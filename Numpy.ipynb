{
  "nbformat": 4,
  "nbformat_minor": 0,
  "metadata": {
    "colab": {
      "name": "Numpy.ipynb",
      "provenance": [],
      "collapsed_sections": []
    },
    "kernelspec": {
      "name": "python3",
      "display_name": "Python 3"
    }
  },
  "cells": [
    {
      "cell_type": "code",
      "metadata": {
        "id": "H-jwFPtuIuhU",
        "colab_type": "code",
        "colab": {}
      },
      "source": [
        "import numpy as np"
      ],
      "execution_count": 0,
      "outputs": []
    },
    {
      "cell_type": "code",
      "metadata": {
        "id": "ayQsYsyIuRPp",
        "colab_type": "code",
        "colab": {}
      },
      "source": [
        "#http://www.utc.fr/~jlaforet/Suppl/python-cheatsheets.pdf"
      ],
      "execution_count": 0,
      "outputs": []
    },
    {
      "cell_type": "code",
      "metadata": {
        "id": "j1B0q5RGVNji",
        "colab_type": "code",
        "colab": {}
      },
      "source": [
        "#Why is numpy used?\n",
        "#Speed\n",
        "#Scientific Computing Inbuilt\n",
        "#Less Header -> Less Memory Usage"
      ],
      "execution_count": 0,
      "outputs": []
    },
    {
      "cell_type": "code",
      "metadata": {
        "id": "t3l8uMkRVwsD",
        "colab_type": "code",
        "colab": {}
      },
      "source": [
        "#How to create numpy arrays?\n",
        "#Numpy arrays are predefined in size"
      ],
      "execution_count": 0,
      "outputs": []
    },
    {
      "cell_type": "code",
      "metadata": {
        "id": "yolqk5zQV-Wm",
        "colab_type": "code",
        "colab": {}
      },
      "source": [
        "#How to create numpy array\n",
        "a = np.array([1,2,3])"
      ],
      "execution_count": 0,
      "outputs": []
    },
    {
      "cell_type": "code",
      "metadata": {
        "id": "U6sb3rBHWIeQ",
        "colab_type": "code",
        "outputId": "fdd889eb-6076-4fc4-dbae-663637b87a59",
        "colab": {
          "base_uri": "https://localhost:8080/",
          "height": 34
        }
      },
      "source": [
        "print(a)"
      ],
      "execution_count": 6,
      "outputs": [
        {
          "output_type": "stream",
          "text": [
            "[1 2 3]\n"
          ],
          "name": "stdout"
        }
      ]
    },
    {
      "cell_type": "code",
      "metadata": {
        "id": "FndGrBahWJhn",
        "colab_type": "code",
        "outputId": "fc1496a6-4d40-4380-c7c9-8fefee577757",
        "colab": {
          "base_uri": "https://localhost:8080/",
          "height": 34
        }
      },
      "source": [
        "print(type(a))"
      ],
      "execution_count": 7,
      "outputs": [
        {
          "output_type": "stream",
          "text": [
            "<class 'numpy.ndarray'>\n"
          ],
          "name": "stdout"
        }
      ]
    },
    {
      "cell_type": "code",
      "metadata": {
        "id": "nR84TIfbWLut",
        "colab_type": "code",
        "colab": {}
      },
      "source": [
        "num = [1,2,3]\n",
        "b = np.array(num)"
      ],
      "execution_count": 0,
      "outputs": []
    },
    {
      "cell_type": "code",
      "metadata": {
        "id": "a3Kc10DYWU6k",
        "colab_type": "code",
        "outputId": "b98b5c12-a7e7-4e28-ae00-d51c9de0bf7d",
        "colab": {
          "base_uri": "https://localhost:8080/",
          "height": 52
        }
      },
      "source": [
        "print(b)\n",
        "print(type(b))"
      ],
      "execution_count": 9,
      "outputs": [
        {
          "output_type": "stream",
          "text": [
            "[1 2 3]\n",
            "<class 'numpy.ndarray'>\n"
          ],
          "name": "stdout"
        }
      ]
    },
    {
      "cell_type": "code",
      "metadata": {
        "id": "cBorW-qeWWYH",
        "colab_type": "code",
        "outputId": "a34b468f-c01f-4128-9975-3fc261d4ac00",
        "colab": {
          "base_uri": "https://localhost:8080/",
          "height": 34
        }
      },
      "source": [
        "details = [1,\"Chirag\",30.6]\n",
        "c = np.array(details)\n",
        "print(c)"
      ],
      "execution_count": 10,
      "outputs": [
        {
          "output_type": "stream",
          "text": [
            "['1' 'Chirag' '30.6']\n"
          ],
          "name": "stdout"
        }
      ]
    },
    {
      "cell_type": "code",
      "metadata": {
        "id": "2DDP-wYQWeeL",
        "colab_type": "code",
        "outputId": "82c1b2ef-d597-442c-9e2e-b319baf6d0d7",
        "colab": {
          "base_uri": "https://localhost:8080/",
          "height": 34
        }
      },
      "source": [
        "#How to check datatype of a np array?\n",
        "print(a.dtype) #prints the datatype of every value stored in a"
      ],
      "execution_count": 11,
      "outputs": [
        {
          "output_type": "stream",
          "text": [
            "int64\n"
          ],
          "name": "stdout"
        }
      ]
    },
    {
      "cell_type": "code",
      "metadata": {
        "id": "4qpcLUH8Wwy4",
        "colab_type": "code",
        "outputId": "776ddeaa-a61c-4676-f477-bef94db8cf94",
        "colab": {
          "base_uri": "https://localhost:8080/",
          "height": 34
        }
      },
      "source": [
        "print(c.dtype)"
      ],
      "execution_count": 12,
      "outputs": [
        {
          "output_type": "stream",
          "text": [
            "<U21\n"
          ],
          "name": "stdout"
        }
      ]
    },
    {
      "cell_type": "code",
      "metadata": {
        "id": "yvz9gS_yXX1o",
        "colab_type": "code",
        "colab": {}
      },
      "source": [
        "#2-D arrays in numpy\n",
        "d = np.array([[1,2,3],[4,5,6]]) #2D array since it's list of list"
      ],
      "execution_count": 0,
      "outputs": []
    },
    {
      "cell_type": "code",
      "metadata": {
        "id": "G3ASijHKYRdZ",
        "colab_type": "code",
        "outputId": "af6ca219-19c6-49a4-ffac-00a1380fa177",
        "colab": {
          "base_uri": "https://localhost:8080/",
          "height": 52
        }
      },
      "source": [
        "print(d)"
      ],
      "execution_count": 14,
      "outputs": [
        {
          "output_type": "stream",
          "text": [
            "[[1 2 3]\n",
            " [4 5 6]]\n"
          ],
          "name": "stdout"
        }
      ]
    },
    {
      "cell_type": "code",
      "metadata": {
        "id": "t332Hf3RYSAu",
        "colab_type": "code",
        "outputId": "33f07c16-aab3-4eed-ee18-0b57c64d8542",
        "colab": {
          "base_uri": "https://localhost:8080/",
          "height": 34
        }
      },
      "source": [
        "#Why don't you give me shape of this array?\n",
        "print(d.shape)"
      ],
      "execution_count": 15,
      "outputs": [
        {
          "output_type": "stream",
          "text": [
            "(2, 3)\n"
          ],
          "name": "stdout"
        }
      ]
    },
    {
      "cell_type": "code",
      "metadata": {
        "id": "lxKxuomVYjXQ",
        "colab_type": "code",
        "outputId": "c0a4e6c8-00f5-44c9-aa33-e67e46879a21",
        "colab": {
          "base_uri": "https://localhost:8080/",
          "height": 34
        }
      },
      "source": [
        "#What's the value at row - 0 and column - 0\n",
        "print(d[0][0])"
      ],
      "execution_count": 16,
      "outputs": [
        {
          "output_type": "stream",
          "text": [
            "1\n"
          ],
          "name": "stdout"
        }
      ]
    },
    {
      "cell_type": "code",
      "metadata": {
        "id": "XWAP_UFcYyYW",
        "colab_type": "code",
        "outputId": "c762c243-1201-4a5e-b03d-1926af83cad0",
        "colab": {
          "base_uri": "https://localhost:8080/",
          "height": 34
        }
      },
      "source": [
        "print(d[0,0]) #Pythonic way of writing it"
      ],
      "execution_count": 17,
      "outputs": [
        {
          "output_type": "stream",
          "text": [
            "1\n"
          ],
          "name": "stdout"
        }
      ]
    },
    {
      "cell_type": "code",
      "metadata": {
        "id": "QFyQ2DylY0gF",
        "colab_type": "code",
        "colab": {}
      },
      "source": [
        "e = np.array([[1,2,3.0],[4,5,6],[7,8,9]])"
      ],
      "execution_count": 0,
      "outputs": []
    },
    {
      "cell_type": "code",
      "metadata": {
        "id": "hhE8LptMZGKL",
        "colab_type": "code",
        "outputId": "35ed42b3-51ac-4f49-b4a7-3a622c1df2a0",
        "colab": {
          "base_uri": "https://localhost:8080/",
          "height": 69
        }
      },
      "source": [
        "print(e)"
      ],
      "execution_count": 19,
      "outputs": [
        {
          "output_type": "stream",
          "text": [
            "[[1. 2. 3.]\n",
            " [4. 5. 6.]\n",
            " [7. 8. 9.]]\n"
          ],
          "name": "stdout"
        }
      ]
    },
    {
      "cell_type": "code",
      "metadata": {
        "id": "ed1zrzo_ZGvN",
        "colab_type": "code",
        "outputId": "deed8c1c-e5dc-4346-f864-84f445d16ba9",
        "colab": {
          "base_uri": "https://localhost:8080/",
          "height": 52
        }
      },
      "source": [
        "print(e.shape)\n",
        "print(e.dtype)"
      ],
      "execution_count": 20,
      "outputs": [
        {
          "output_type": "stream",
          "text": [
            "(3, 3)\n",
            "float64\n"
          ],
          "name": "stdout"
        }
      ]
    },
    {
      "cell_type": "code",
      "metadata": {
        "id": "RdZ5sEJcZIyj",
        "colab_type": "code",
        "outputId": "433e3a66-a5c2-4455-afc2-a8e7776dcd4e",
        "colab": {
          "base_uri": "https://localhost:8080/",
          "height": 52
        }
      },
      "source": [
        "e[0:2,0:2] #How to print a sub-matrix"
      ],
      "execution_count": 21,
      "outputs": [
        {
          "output_type": "execute_result",
          "data": {
            "text/plain": [
              "array([[1., 2.],\n",
              "       [4., 5.]])"
            ]
          },
          "metadata": {
            "tags": []
          },
          "execution_count": 21
        }
      ]
    },
    {
      "cell_type": "code",
      "metadata": {
        "id": "TGOKrjjpZZTG",
        "colab_type": "code",
        "outputId": "d3a0d9ed-e9af-42d5-8e70-a4ca5bf935a9",
        "colab": {
          "base_uri": "https://localhost:8080/",
          "height": 52
        }
      },
      "source": [
        "e[1:3,1:3]"
      ],
      "execution_count": 22,
      "outputs": [
        {
          "output_type": "execute_result",
          "data": {
            "text/plain": [
              "array([[5., 6.],\n",
              "       [8., 9.]])"
            ]
          },
          "metadata": {
            "tags": []
          },
          "execution_count": 22
        }
      ]
    },
    {
      "cell_type": "code",
      "metadata": {
        "id": "xaSXLXfJaAmt",
        "colab_type": "code",
        "outputId": "d72f00cf-3ef8-40c9-fbe2-82f1b47fce6c",
        "colab": {
          "base_uri": "https://localhost:8080/",
          "height": 52
        }
      },
      "source": [
        "e[1:,1:]"
      ],
      "execution_count": 23,
      "outputs": [
        {
          "output_type": "execute_result",
          "data": {
            "text/plain": [
              "array([[5., 6.],\n",
              "       [8., 9.]])"
            ]
          },
          "metadata": {
            "tags": []
          },
          "execution_count": 23
        }
      ]
    },
    {
      "cell_type": "code",
      "metadata": {
        "id": "gTiTtzYZaSRV",
        "colab_type": "code",
        "outputId": "98e49e5f-b280-46e9-a0ee-ad6e75b24ae5",
        "colab": {
          "base_uri": "https://localhost:8080/",
          "height": 52
        }
      },
      "source": [
        "e[:2,:2]"
      ],
      "execution_count": 24,
      "outputs": [
        {
          "output_type": "execute_result",
          "data": {
            "text/plain": [
              "array([[1., 2.],\n",
              "       [4., 5.]])"
            ]
          },
          "metadata": {
            "tags": []
          },
          "execution_count": 24
        }
      ]
    },
    {
      "cell_type": "code",
      "metadata": {
        "id": "VzDP5KkXaUG5",
        "colab_type": "code",
        "colab": {}
      },
      "source": [
        "#How to initial placeholders?\n",
        "#In case we have more data to fill\n",
        "#Let's create placeholders with 0\n",
        "f = np.zeros((2))"
      ],
      "execution_count": 0,
      "outputs": []
    },
    {
      "cell_type": "code",
      "metadata": {
        "id": "qf9rqCgMbBan",
        "colab_type": "code",
        "outputId": "40152b13-fb45-4022-8ad2-a3ae796ea8cd",
        "colab": {
          "base_uri": "https://localhost:8080/",
          "height": 34
        }
      },
      "source": [
        "print(f)"
      ],
      "execution_count": 26,
      "outputs": [
        {
          "output_type": "stream",
          "text": [
            "[0. 0.]\n"
          ],
          "name": "stdout"
        }
      ]
    },
    {
      "cell_type": "code",
      "metadata": {
        "id": "aC4l5tTlbCAM",
        "colab_type": "code",
        "colab": {}
      },
      "source": [
        "g = np.zeros((2,2))"
      ],
      "execution_count": 0,
      "outputs": []
    },
    {
      "cell_type": "code",
      "metadata": {
        "id": "4bmlXBlmbG8x",
        "colab_type": "code",
        "outputId": "cd240c5b-7d12-4e85-92b5-ff3a22df9c41",
        "colab": {
          "base_uri": "https://localhost:8080/",
          "height": 52
        }
      },
      "source": [
        "print(g)"
      ],
      "execution_count": 28,
      "outputs": [
        {
          "output_type": "stream",
          "text": [
            "[[0. 0.]\n",
            " [0. 0.]]\n"
          ],
          "name": "stdout"
        }
      ]
    },
    {
      "cell_type": "code",
      "metadata": {
        "id": "uG2sKTtRbHka",
        "colab_type": "code",
        "colab": {}
      },
      "source": [
        "h = np.zeros((3,3,3))"
      ],
      "execution_count": 0,
      "outputs": []
    },
    {
      "cell_type": "code",
      "metadata": {
        "id": "gqKig3KGbT51",
        "colab_type": "code",
        "outputId": "3da09825-f2e9-42e6-bfa0-b67f91a26313",
        "colab": {
          "base_uri": "https://localhost:8080/",
          "height": 208
        }
      },
      "source": [
        "print(h)"
      ],
      "execution_count": 30,
      "outputs": [
        {
          "output_type": "stream",
          "text": [
            "[[[0. 0. 0.]\n",
            "  [0. 0. 0.]\n",
            "  [0. 0. 0.]]\n",
            "\n",
            " [[0. 0. 0.]\n",
            "  [0. 0. 0.]\n",
            "  [0. 0. 0.]]\n",
            "\n",
            " [[0. 0. 0.]\n",
            "  [0. 0. 0.]\n",
            "  [0. 0. 0.]]]\n"
          ],
          "name": "stdout"
        }
      ]
    },
    {
      "cell_type": "code",
      "metadata": {
        "id": "0qkIf53XbU33",
        "colab_type": "code",
        "outputId": "2dfe2961-9511-40f3-f650-7c3edf9219de",
        "colab": {
          "base_uri": "https://localhost:8080/",
          "height": 69
        }
      },
      "source": [
        "#Placeholders with one\n",
        "i = np.ones((3,3))\n",
        "print(i)"
      ],
      "execution_count": 31,
      "outputs": [
        {
          "output_type": "stream",
          "text": [
            "[[1. 1. 1.]\n",
            " [1. 1. 1.]\n",
            " [1. 1. 1.]]\n"
          ],
          "name": "stdout"
        }
      ]
    },
    {
      "cell_type": "code",
      "metadata": {
        "id": "_CcneRVvboV1",
        "colab_type": "code",
        "colab": {}
      },
      "source": [
        "i = np.ones((3,3)) * 10"
      ],
      "execution_count": 0,
      "outputs": []
    },
    {
      "cell_type": "code",
      "metadata": {
        "id": "WlAGZ8ePb0SV",
        "colab_type": "code",
        "outputId": "ad06ed20-0ecf-4429-d2dc-a71724eb4088",
        "colab": {
          "base_uri": "https://localhost:8080/",
          "height": 69
        }
      },
      "source": [
        "print(i)"
      ],
      "execution_count": 33,
      "outputs": [
        {
          "output_type": "stream",
          "text": [
            "[[10. 10. 10.]\n",
            " [10. 10. 10.]\n",
            " [10. 10. 10.]]\n"
          ],
          "name": "stdout"
        }
      ]
    },
    {
      "cell_type": "code",
      "metadata": {
        "id": "scNUc3Pwb1jK",
        "colab_type": "code",
        "outputId": "277570b7-4e6c-4590-a3c8-30939c2f5cc7",
        "colab": {
          "base_uri": "https://localhost:8080/",
          "height": 69
        }
      },
      "source": [
        "j = np.full((3,3),7) #same as above just takes second value which is 7 here as a placeholder to put everywhere\n",
        "print(j)"
      ],
      "execution_count": 34,
      "outputs": [
        {
          "output_type": "stream",
          "text": [
            "[[7 7 7]\n",
            " [7 7 7]\n",
            " [7 7 7]]\n"
          ],
          "name": "stdout"
        }
      ]
    },
    {
      "cell_type": "code",
      "metadata": {
        "id": "OlSyCFZBb7o5",
        "colab_type": "code",
        "outputId": "a4b55fc0-3470-45d6-e5a0-811daa5a6c7f",
        "colab": {
          "base_uri": "https://localhost:8080/",
          "height": 86
        }
      },
      "source": [
        "k = np.eye(4,4)\n",
        "print(k)"
      ],
      "execution_count": 35,
      "outputs": [
        {
          "output_type": "stream",
          "text": [
            "[[1. 0. 0. 0.]\n",
            " [0. 1. 0. 0.]\n",
            " [0. 0. 1. 0.]\n",
            " [0. 0. 0. 1.]]\n"
          ],
          "name": "stdout"
        }
      ]
    },
    {
      "cell_type": "code",
      "metadata": {
        "id": "VhqzgyzgcQnl",
        "colab_type": "code",
        "outputId": "8fd9ce3a-d749-4b9f-b1db-0b760b072a2f",
        "colab": {
          "base_uri": "https://localhost:8080/",
          "height": 69
        }
      },
      "source": [
        "l = np.random.random((3,3)) #gives you random values between 0 and 1 \n",
        "print(l)"
      ],
      "execution_count": 36,
      "outputs": [
        {
          "output_type": "stream",
          "text": [
            "[[0.08168392 0.23449765 0.7823658 ]\n",
            " [0.90927087 0.14321341 0.23994682]\n",
            " [0.47371188 0.88677482 0.957299  ]]\n"
          ],
          "name": "stdout"
        }
      ]
    },
    {
      "cell_type": "code",
      "metadata": {
        "id": "Ptim8RgHdKhh",
        "colab_type": "code",
        "outputId": "d7855faa-d7a5-4250-b2a3-295ad49c7613",
        "colab": {
          "base_uri": "https://localhost:8080/",
          "height": 69
        }
      },
      "source": [
        "l = np.random.random((3,3)) * 500\n",
        "print(l)"
      ],
      "execution_count": 37,
      "outputs": [
        {
          "output_type": "stream",
          "text": [
            "[[418.16051857 435.06477011 273.7870398 ]\n",
            " [ 38.86614512 437.4634606  267.05846039]\n",
            " [321.5572429  436.56402875 189.15098417]]\n"
          ],
          "name": "stdout"
        }
      ]
    },
    {
      "cell_type": "code",
      "metadata": {
        "id": "4qFx_Ui8dZI1",
        "colab_type": "code",
        "colab": {}
      },
      "source": [
        "#Mathematical Operations"
      ],
      "execution_count": 0,
      "outputs": []
    },
    {
      "cell_type": "code",
      "metadata": {
        "id": "LCW8yXGUdmhO",
        "colab_type": "code",
        "outputId": "4fc5f766-d868-40d4-efc7-6c2fd29b12fb",
        "colab": {
          "base_uri": "https://localhost:8080/",
          "height": 121
        }
      },
      "source": [
        "m = np.random.random((3,3)) * 100\n",
        "n = np.random.random((3,3)) * 200\n",
        "print(m)\n",
        "print(n)"
      ],
      "execution_count": 39,
      "outputs": [
        {
          "output_type": "stream",
          "text": [
            "[[40.91489073 23.37676138 62.89643162]\n",
            " [57.89682228 52.68665118 82.01776858]\n",
            " [23.82147205 57.41493984  0.87631105]]\n",
            "[[ 47.67473162  92.26354966 137.52701199]\n",
            " [132.00961972  41.66998374  34.38750778]\n",
            " [181.63573467  53.50177761 150.57183995]]\n"
          ],
          "name": "stdout"
        }
      ]
    },
    {
      "cell_type": "code",
      "metadata": {
        "id": "yFWPzjrwdu9Y",
        "colab_type": "code",
        "outputId": "70501682-3baa-4d06-c1ae-6ba3d5e5053c",
        "colab": {
          "base_uri": "https://localhost:8080/",
          "height": 69
        }
      },
      "source": [
        "print(m+n)"
      ],
      "execution_count": 40,
      "outputs": [
        {
          "output_type": "stream",
          "text": [
            "[[ 88.58962235 115.64031104 200.42344361]\n",
            " [189.906442    94.35663492 116.40527636]\n",
            " [205.45720671 110.91671745 151.448151  ]]\n"
          ],
          "name": "stdout"
        }
      ]
    },
    {
      "cell_type": "code",
      "metadata": {
        "id": "7hr2uKwddy8A",
        "colab_type": "code",
        "outputId": "ea553757-4344-437e-dfd9-5bd804e7c5c4",
        "colab": {
          "base_uri": "https://localhost:8080/",
          "height": 69
        }
      },
      "source": [
        "print(m-n)"
      ],
      "execution_count": 41,
      "outputs": [
        {
          "output_type": "stream",
          "text": [
            "[[  -6.75984089  -68.88678827  -74.63058037]\n",
            " [ -74.11279743   11.01666744   47.6302608 ]\n",
            " [-157.81426262    3.91316223 -149.69552889]]\n"
          ],
          "name": "stdout"
        }
      ]
    },
    {
      "cell_type": "code",
      "metadata": {
        "id": "k7xjZ7Nqd6hv",
        "colab_type": "code",
        "outputId": "7979cf69-02eb-4cbe-c26e-fd39b995d3cb",
        "colab": {
          "base_uri": "https://localhost:8080/",
          "height": 69
        }
      },
      "source": [
        "print(m/n)"
      ],
      "execution_count": 42,
      "outputs": [
        {
          "output_type": "stream",
          "text": [
            "[[0.85820915 0.25336941 0.45733875]\n",
            " [0.43858033 1.26437897 2.3851036 ]\n",
            " [0.1311497  1.07314079 0.00581989]]\n"
          ],
          "name": "stdout"
        }
      ]
    },
    {
      "cell_type": "code",
      "metadata": {
        "id": "yAYTXcWad_s3",
        "colab_type": "code",
        "outputId": "3cd5d5dc-1709-4348-f712-79ea5eef52a8",
        "colab": {
          "base_uri": "https://localhost:8080/",
          "height": 69
        }
      },
      "source": [
        "print(m*n)"
      ],
      "execution_count": 43,
      "outputs": [
        {
          "output_type": "stream",
          "text": [
            "[[1950.60643465 2156.82298488 8649.95830595]\n",
            " [7642.93749259 2195.45189801 2820.38665494]\n",
            " [4326.83057587 3071.80134305  131.94776745]]\n"
          ],
          "name": "stdout"
        }
      ]
    },
    {
      "cell_type": "code",
      "metadata": {
        "id": "qWY277HaeCPz",
        "colab_type": "code",
        "outputId": "38186fec-1ee7-492c-9a62-f461d3f53342",
        "colab": {
          "base_uri": "https://localhost:8080/",
          "height": 69
        }
      },
      "source": [
        "m"
      ],
      "execution_count": 44,
      "outputs": [
        {
          "output_type": "execute_result",
          "data": {
            "text/plain": [
              "array([[40.91489073, 23.37676138, 62.89643162],\n",
              "       [57.89682228, 52.68665118, 82.01776858],\n",
              "       [23.82147205, 57.41493984,  0.87631105]])"
            ]
          },
          "metadata": {
            "tags": []
          },
          "execution_count": 44
        }
      ]
    },
    {
      "cell_type": "code",
      "metadata": {
        "id": "qq9cmH2ceKeZ",
        "colab_type": "code",
        "outputId": "d80ad355-b9fd-4063-e045-ae28a3487b90",
        "colab": {
          "base_uri": "https://localhost:8080/",
          "height": 69
        }
      },
      "source": [
        "m**(1/2)"
      ],
      "execution_count": 45,
      "outputs": [
        {
          "output_type": "execute_result",
          "data": {
            "text/plain": [
              "array([[6.39647487, 4.83495206, 7.93072706],\n",
              "       [7.60899614, 7.2585571 , 9.05636619],\n",
              "       [4.88072454, 7.57726467, 0.93611487]])"
            ]
          },
          "metadata": {
            "tags": []
          },
          "execution_count": 45
        }
      ]
    },
    {
      "cell_type": "code",
      "metadata": {
        "id": "A1oOEd_keWXz",
        "colab_type": "code",
        "outputId": "bd74fb31-8fbb-4f24-f536-1cbaacd9bf07",
        "colab": {
          "base_uri": "https://localhost:8080/",
          "height": 69
        }
      },
      "source": [
        "print(np.exp(m))"
      ],
      "execution_count": 46,
      "outputs": [
        {
          "output_type": "stream",
          "text": [
            "[[5.87639893e+17 1.42036013e+10 2.06810786e+27]\n",
            " [1.39402460e+25 7.61240484e+22 4.16739160e+35]\n",
            " [2.21581685e+10 8.60977006e+24 2.40202241e+00]]\n"
          ],
          "name": "stdout"
        }
      ]
    },
    {
      "cell_type": "code",
      "metadata": {
        "id": "eGrlZGMMec6p",
        "colab_type": "code",
        "outputId": "d8a00d92-77b6-4f57-b8c2-ee2a38176690",
        "colab": {
          "base_uri": "https://localhost:8080/",
          "height": 52
        }
      },
      "source": [
        "o = np.array([[1,2],[3,4]])\n",
        "np.exp(o)"
      ],
      "execution_count": 47,
      "outputs": [
        {
          "output_type": "execute_result",
          "data": {
            "text/plain": [
              "array([[ 2.71828183,  7.3890561 ],\n",
              "       [20.08553692, 54.59815003]])"
            ]
          },
          "metadata": {
            "tags": []
          },
          "execution_count": 47
        }
      ]
    },
    {
      "cell_type": "code",
      "metadata": {
        "id": "LQz41JS4epQ9",
        "colab_type": "code",
        "outputId": "e4854e73-71fa-4c3b-c57a-07e397b5886f",
        "colab": {
          "base_uri": "https://localhost:8080/",
          "height": 52
        }
      },
      "source": [
        "(2.71)**o"
      ],
      "execution_count": 48,
      "outputs": [
        {
          "output_type": "execute_result",
          "data": {
            "text/plain": [
              "array([[ 2.71      ,  7.3441    ],\n",
              "       [19.902511  , 53.93580481]])"
            ]
          },
          "metadata": {
            "tags": []
          },
          "execution_count": 48
        }
      ]
    },
    {
      "cell_type": "code",
      "metadata": {
        "id": "1-0lsff2e32k",
        "colab_type": "code",
        "outputId": "9beb2524-b548-4a5f-f820-b6a384cfbcff",
        "colab": {
          "base_uri": "https://localhost:8080/",
          "height": 156
        }
      },
      "source": [
        "p = np.array([[1,2],[3,4]])\n",
        "q = np.array([[5,6],[7,8]])\n",
        "print(p)\n",
        "print(\"-----------------------\")\n",
        "print(q)\n",
        "print(\"-----------------------\")\n",
        "print(np.dot(p,q))"
      ],
      "execution_count": 49,
      "outputs": [
        {
          "output_type": "stream",
          "text": [
            "[[1 2]\n",
            " [3 4]]\n",
            "-----------------------\n",
            "[[5 6]\n",
            " [7 8]]\n",
            "-----------------------\n",
            "[[19 22]\n",
            " [43 50]]\n"
          ],
          "name": "stdout"
        }
      ]
    },
    {
      "cell_type": "code",
      "metadata": {
        "id": "ZdP02hiWfLp9",
        "colab_type": "code",
        "outputId": "8d8a55e7-62bd-433d-91cc-0a42e84df24d",
        "colab": {
          "base_uri": "https://localhost:8080/",
          "height": 156
        }
      },
      "source": [
        "#Checking if two numpy arrays are same or not\n",
        "#Working : It returns true for the index where values are equal\n",
        "r = np.array([[1,2],[3,4]])\n",
        "s = np.array([[5,6],[3,4]])\n",
        "print(r)\n",
        "print(\"-----------------------\")\n",
        "print(s)\n",
        "print(\"-----------------------\")\n",
        "print(r==s)"
      ],
      "execution_count": 50,
      "outputs": [
        {
          "output_type": "stream",
          "text": [
            "[[1 2]\n",
            " [3 4]]\n",
            "-----------------------\n",
            "[[5 6]\n",
            " [3 4]]\n",
            "-----------------------\n",
            "[[False False]\n",
            " [ True  True]]\n"
          ],
          "name": "stdout"
        }
      ]
    },
    {
      "cell_type": "code",
      "metadata": {
        "id": "pA0dWtwkfxvN",
        "colab_type": "code",
        "outputId": "448ccc22-a3cd-4e57-c7b9-0505a99b7554",
        "colab": {
          "base_uri": "https://localhost:8080/",
          "height": 52
        }
      },
      "source": [
        "#Comparison of values\n",
        "print(r>2)"
      ],
      "execution_count": 51,
      "outputs": [
        {
          "output_type": "stream",
          "text": [
            "[[False False]\n",
            " [ True  True]]\n"
          ],
          "name": "stdout"
        }
      ]
    },
    {
      "cell_type": "code",
      "metadata": {
        "id": "OzsasorTgN_2",
        "colab_type": "code",
        "outputId": "822fe0fa-3fa5-4600-879b-826c5573091f",
        "colab": {
          "base_uri": "https://localhost:8080/",
          "height": 52
        }
      },
      "source": [
        "print(s<5)"
      ],
      "execution_count": 52,
      "outputs": [
        {
          "output_type": "stream",
          "text": [
            "[[False False]\n",
            " [ True  True]]\n"
          ],
          "name": "stdout"
        }
      ]
    },
    {
      "cell_type": "code",
      "metadata": {
        "id": "HHNpTc-rgRNz",
        "colab_type": "code",
        "outputId": "4fb0d1fa-ef6a-46ca-8d7a-959097a0f528",
        "colab": {
          "base_uri": "https://localhost:8080/",
          "height": 121
        }
      },
      "source": [
        "r = np.array([[1,2],[3,4]])\n",
        "s = np.array([[5,6],[3,4]])\n",
        "print(r)\n",
        "print(\"-----------------------\")\n",
        "print(s)\n",
        "print(\"-----------------------\")"
      ],
      "execution_count": 53,
      "outputs": [
        {
          "output_type": "stream",
          "text": [
            "[[1 2]\n",
            " [3 4]]\n",
            "-----------------------\n",
            "[[5 6]\n",
            " [3 4]]\n",
            "-----------------------\n"
          ],
          "name": "stdout"
        }
      ]
    },
    {
      "cell_type": "code",
      "metadata": {
        "id": "nXuRW7xWgbkK",
        "colab_type": "code",
        "outputId": "7c199d14-655d-4df1-a4a1-060b625a7699",
        "colab": {
          "base_uri": "https://localhost:8080/",
          "height": 52
        }
      },
      "source": [
        "print(r.max())\n",
        "print(s.max())"
      ],
      "execution_count": 54,
      "outputs": [
        {
          "output_type": "stream",
          "text": [
            "4\n",
            "6\n"
          ],
          "name": "stdout"
        }
      ]
    },
    {
      "cell_type": "code",
      "metadata": {
        "id": "OgK22zlKghJw",
        "colab_type": "code",
        "outputId": "02225966-589f-4aa4-9db6-273b5e50ca59",
        "colab": {
          "base_uri": "https://localhost:8080/",
          "height": 52
        }
      },
      "source": [
        "print(r.max(axis=0)) #0 axis is by defualt is y axis (columns)\n",
        "print(r.max(axis=1)) #x - axis along the rows"
      ],
      "execution_count": 55,
      "outputs": [
        {
          "output_type": "stream",
          "text": [
            "[3 4]\n",
            "[2 4]\n"
          ],
          "name": "stdout"
        }
      ]
    },
    {
      "cell_type": "code",
      "metadata": {
        "id": "0A62zYuOgkc7",
        "colab_type": "code",
        "outputId": "e92aef80-d65d-4680-84b6-8abf8e393146",
        "colab": {
          "base_uri": "https://localhost:8080/",
          "height": 52
        }
      },
      "source": [
        "print(s.max(axis=0)) #0 axis is by defualt is y axis (columns)\n",
        "print(s.max(axis=1)) #x - axis along the rows"
      ],
      "execution_count": 56,
      "outputs": [
        {
          "output_type": "stream",
          "text": [
            "[5 6]\n",
            "[6 4]\n"
          ],
          "name": "stdout"
        }
      ]
    },
    {
      "cell_type": "code",
      "metadata": {
        "id": "8a0XPvAPh1Lx",
        "colab_type": "code",
        "outputId": "ba69eee1-928f-4788-f11c-aabcf4b5a43b",
        "colab": {
          "base_uri": "https://localhost:8080/",
          "height": 121
        }
      },
      "source": [
        "r = np.array([[1,2],[3,4]])\n",
        "s = np.array([[5,6],[3,4]])\n",
        "print(r)\n",
        "print(\"-----------------------\")\n",
        "print(s)\n",
        "print(\"-----------------------\")"
      ],
      "execution_count": 57,
      "outputs": [
        {
          "output_type": "stream",
          "text": [
            "[[1 2]\n",
            " [3 4]]\n",
            "-----------------------\n",
            "[[5 6]\n",
            " [3 4]]\n",
            "-----------------------\n"
          ],
          "name": "stdout"
        }
      ]
    },
    {
      "cell_type": "code",
      "metadata": {
        "id": "WCUpXbkHg9-E",
        "colab_type": "code",
        "outputId": "bdedd25d-5790-4628-8159-11aa49b8f3c3",
        "colab": {
          "base_uri": "https://localhost:8080/",
          "height": 104
        }
      },
      "source": [
        "print(\"Sum of r matrix: \",r.sum())\n",
        "print(r.sum(axis=1)) #Addition along the rows\n",
        "print(r.mean()) #Sum of all values / total no of values \n",
        "print(r.mean(axis=1)) #Mean along the rows\n",
        "print(r.mean(axis=0)) #Mean along columns"
      ],
      "execution_count": 58,
      "outputs": [
        {
          "output_type": "stream",
          "text": [
            "Sum of r matrix:  10\n",
            "[3 7]\n",
            "2.5\n",
            "[1.5 3.5]\n",
            "[2. 3.]\n"
          ],
          "name": "stdout"
        }
      ]
    },
    {
      "cell_type": "code",
      "metadata": {
        "id": "inAJ-N7Qhy6y",
        "colab_type": "code",
        "outputId": "2f13a264-e16f-424f-f0f9-7479500537ae",
        "colab": {
          "base_uri": "https://localhost:8080/",
          "height": 104
        }
      },
      "source": [
        "t = np.array([1,2,3,4,5,6,7,8,9,0])\n",
        "u = np.array([[1,2,3,4,5],[6,7,8,9,0]])\n",
        "print(\"T matrix ------------->\",t)\n",
        "print(\"<------------------------>\")\n",
        "print(\"U matrix ------------->\")\n",
        "print(u)"
      ],
      "execution_count": 59,
      "outputs": [
        {
          "output_type": "stream",
          "text": [
            "T matrix -------------> [1 2 3 4 5 6 7 8 9 0]\n",
            "<------------------------>\n",
            "U matrix ------------->\n",
            "[[1 2 3 4 5]\n",
            " [6 7 8 9 0]]\n"
          ],
          "name": "stdout"
        }
      ]
    },
    {
      "cell_type": "code",
      "metadata": {
        "id": "JbnF6cbpkhXM",
        "colab_type": "code",
        "outputId": "70d47408-6a4e-4aa2-f790-c85b17e4d7b8",
        "colab": {
          "base_uri": "https://localhost:8080/",
          "height": 52
        }
      },
      "source": [
        "print(t>5)\n",
        "v = t[t>5]\n",
        "print(v)"
      ],
      "execution_count": 60,
      "outputs": [
        {
          "output_type": "stream",
          "text": [
            "[False False False False False  True  True  True  True False]\n",
            "[6 7 8 9]\n"
          ],
          "name": "stdout"
        }
      ]
    },
    {
      "cell_type": "code",
      "metadata": {
        "id": "MpQBnbMkkomp",
        "colab_type": "code",
        "outputId": "9464b262-fb93-4ad0-b04f-e510e91dc88a",
        "colab": {
          "base_uri": "https://localhost:8080/",
          "height": 69
        }
      },
      "source": [
        "print(u>5)\n",
        "w = u[u>5]\n",
        "print(w)"
      ],
      "execution_count": 61,
      "outputs": [
        {
          "output_type": "stream",
          "text": [
            "[[False False False False False]\n",
            " [ True  True  True  True False]]\n",
            "[6 7 8 9]\n"
          ],
          "name": "stdout"
        }
      ]
    },
    {
      "cell_type": "code",
      "metadata": {
        "id": "UsPUsniSlD__",
        "colab_type": "code",
        "outputId": "5b48b094-3f57-44d0-c075-866f798461d8",
        "colab": {
          "base_uri": "https://localhost:8080/",
          "height": 139
        }
      },
      "source": [
        "# Array Manipulations\n",
        "# Transpose\n",
        "x = np.array([[1,2,3],[4,5,6]])\n",
        "print(x)\n",
        "print(\"Shape of X\",x.shape)\n",
        "y = x.transpose()\n",
        "print(y)\n",
        "print(\"Shape of X Tranpose\", y.shape)"
      ],
      "execution_count": 62,
      "outputs": [
        {
          "output_type": "stream",
          "text": [
            "[[1 2 3]\n",
            " [4 5 6]]\n",
            "Shape of X (2, 3)\n",
            "[[1 4]\n",
            " [2 5]\n",
            " [3 6]]\n",
            "Shape of X Tranpose (3, 2)\n"
          ],
          "name": "stdout"
        }
      ]
    },
    {
      "cell_type": "code",
      "metadata": {
        "id": "ACTP48h4lnw0",
        "colab_type": "code",
        "outputId": "6957f2de-29ef-47dd-aa84-f0a81b93a315",
        "colab": {
          "base_uri": "https://localhost:8080/",
          "height": 173
        }
      },
      "source": [
        "z = np.array([1,2,3,4,5,6,7,8,9,10,11,12])\n",
        "print(z.reshape(2,6))\n",
        "print(z.reshape(3,4))\n",
        "print(z.reshape(4,3))\n",
        "#print(z.reshape(2,2))"
      ],
      "execution_count": 64,
      "outputs": [
        {
          "output_type": "stream",
          "text": [
            "[[ 1  2  3  4  5  6]\n",
            " [ 7  8  9 10 11 12]]\n",
            "[[ 1  2  3  4]\n",
            " [ 5  6  7  8]\n",
            " [ 9 10 11 12]]\n",
            "[[ 1  2  3]\n",
            " [ 4  5  6]\n",
            " [ 7  8  9]\n",
            " [10 11 12]]\n"
          ],
          "name": "stdout"
        }
      ]
    },
    {
      "cell_type": "code",
      "metadata": {
        "id": "28uTJqDpmKHw",
        "colab_type": "code",
        "colab": {}
      },
      "source": [
        ""
      ],
      "execution_count": 0,
      "outputs": []
    }
  ]
}